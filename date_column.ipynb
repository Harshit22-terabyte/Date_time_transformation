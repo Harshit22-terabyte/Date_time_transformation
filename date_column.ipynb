{
  "nbformat": 4,
  "nbformat_minor": 0,
  "metadata": {
    "colab": {
      "name": "date_column.ipynb",
      "provenance": [],
      "collapsed_sections": []
    },
    "kernelspec": {
      "name": "python3",
      "display_name": "Python 3"
    }
  },
  "cells": [
    {
      "cell_type": "markdown",
      "metadata": {
        "id": "cpkpO0TK61wQ",
        "colab_type": "text"
      },
      "source": [
        "Take input a test csv file and for simplicity ignoring the null values and dropping duplicates"
      ]
    },
    {
      "cell_type": "code",
      "metadata": {
        "id": "w9dwCaMxij3y",
        "colab_type": "code",
        "colab": {}
      },
      "source": [
        "import pandas as pd\n",
        "df = pd.read_csv('test.csv')\n",
        "df = df.drop_duplicates()\n",
        "df = df.dropna()"
      ],
      "execution_count": null,
      "outputs": []
    },
    {
      "cell_type": "code",
      "metadata": {
        "id": "QP9ZNQ_36Uvf",
        "colab_type": "code",
        "colab": {}
      },
      "source": [
        "for col in df.columns:\n",
        "    if df[col].dtype == 'object':\n",
        "        try:\n",
        "            df[col] = pd.to_datetime(df[col])\n",
        "        except ValueError:\n",
        "            pass\n",
        "\n",
        "df.dtypes"
      ],
      "execution_count": null,
      "outputs": []
    },
    {
      "cell_type": "markdown",
      "metadata": {
        "id": "rXbuwFrdvt7z",
        "colab_type": "text"
      },
      "source": [
        "Now the data is loaded and the columns with datetime data have been seperated with the dtype as \"**datetime64[ns]**\""
      ]
    },
    {
      "cell_type": "code",
      "metadata": {
        "id": "VEF_AiF9vp67",
        "colab_type": "code",
        "colab": {}
      },
      "source": [
        "count=0\n",
        "column_name=[]\n",
        "for i in df.columns:\n",
        "  if df[col].dtypes == 'datetime64[ns]':\n",
        "    column_name.append(i)\n",
        "    count=count+1\n",
        "print('Total number of date time column is equal to '+str(count))"
      ],
      "execution_count": null,
      "outputs": []
    },
    {
      "cell_type": "markdown",
      "metadata": {
        "id": "ZPo1iNV_wY6E",
        "colab_type": "text"
      },
      "source": [
        "Now we have counted the total number of columns if count is more than one then we can do whatever operation we want to perform \n",
        "Here we want to find the diff between the datetime dtype taking two at a time\n"
      ]
    },
    {
      "cell_type": "code",
      "metadata": {
        "id": "94sHzBpGwYSu",
        "colab_type": "code",
        "colab": {}
      },
      "source": [
        "if count==1:\n",
        "  pass\n",
        "else:\n",
        "  for i in range(1,count+1):\n",
        "    df['Date_time_'+str(i)]=data[column_name[i-1]]-data[column_name[i]]"
      ],
      "execution_count": null,
      "outputs": []
    },
    {
      "cell_type": "markdown",
      "metadata": {
        "id": "dKFe225V6ttv",
        "colab_type": "text"
      },
      "source": [
        "Above written is the step wise code for better understanding,Now writing a function which will do the complete above operation"
      ]
    },
    {
      "cell_type": "code",
      "metadata": {
        "id": "x7zDWt876q_t",
        "colab_type": "code",
        "colab": {}
      },
      "source": [
        "import pandas as pd\n",
        "df = pd.read_csv('test.csv')\n",
        "df = df.drop_duplicates()\n",
        "df = df.dropna()\n",
        "def date_operation(df):\n",
        "  for col in df.columns:\n",
        "    if df[col].dtype == 'object':\n",
        "        try:\n",
        "            df[col] = pd.to_datetime(df[col])\n",
        "        except ValueError:\n",
        "            pass\n",
        "  count=0\n",
        "  column_name=[]#list for column names of Datetime dtype\n",
        "  for i in df.columns:\n",
        "    if df[col].dtypes == 'datetime64[ns]':\n",
        "      column_name.append(i)\n",
        "      count=count+1\n",
        "  print('Total number of date time column is equal to '+str(count))\n",
        "  if count==1:\n",
        "    pass\n",
        "  else:\n",
        "    for i in range(1,count+1):\n",
        "      df['Date_time_'+str(i)]=data[column_name[i-1]]-data[column_name[i]]\n",
        "  return df"
      ],
      "execution_count": null,
      "outputs": []
    }
  ]
}